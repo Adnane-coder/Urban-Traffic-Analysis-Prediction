import pandas as pd 
from sklearn.model_selection import train_test_split
from sklearn.ensemble import RandomForestRegressor
data=pd.read_csv(r"C:\Users\MSI\Desktop\urbain traffic\urban_traffic_cleaned.csv")
print("donne es chargées avec succès")


X = data[['Vehicule_Speed', 'Congestion_Level', 'Peak_Off_Peak_Encoded','Location_Sensor_01', 'Location_Sensor_02', 'Location_Sensor_03','Location_Sensor_04', 'Location_Sensor_05']] 
Y = data['Target_Vehicle_Count']
print("données est prepare avec succès")
X_train, X_test, Y_train, Y_test = train_test_split(X, Y, test_size=0.2, random_state=42)
print("Données divisées avec succès.")
model = RandomForestRegressor(n_estimators=100, random_state=42)
model.fit(X_train, Y_train)
print("modele entrainee avec succès")
feature_importances = pd.DataFrame(model.feature_importances_, index=X_train.columns, columns=['importance']).sort_values('importance', ascending=False)
print(feature_importances)
print("importance des caracteristiques calculée avec succès

#Pemettre de Calcule et visulization de algorithme
import numpy as np
import matplotlib.pyplot as plt
plt.figure(figsize=(12, 8))
plt.barh(feature_importances.index, feature_importances['importance'], color='skyblue')
plt.xlabel("Score d'Importance", fontsize=12)
plt.ylabel("Variables", fontsize=12)
plt.title("Importance des variables pour la prédiction du trafic", fontsize=16, fontweight='bold')
plt.gca().invert_yaxis()
plt.tight_layout()

#Permettre de sauvgarde image de graphique 
plt.savefig('importance_variables.png')
print("Le graphique a été sauvegardé sous le nom 'importance_variables.png'.")
plt.show()
