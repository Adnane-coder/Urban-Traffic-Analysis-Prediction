import pandas as pd 
from sklearn.model_selection import train_test_split
from sklearn.ensemble import RandomForestRegressor
from sklearn.metrics import mean_absolute_error, r2_score
data= pd.read_csv(r"C:\Users\MSI\Desktop\urbain traffic\urban_traffic_cleaned.csv")
data.head()
data.columns

#Definir les variable explicative du prediction selon d'entrainement X et du prediction Y 
X= data[['Vehicle_Count', 'Vehicule_Speed', 'Congestion_Level', 'Peak_Off_Peak_Encoded','Location_Sensor_01', 'Location_Sensor_02', 'Location_Sensor_03', 'Location_Sensor_04', 'Location_Sensor_05']]
Y= data['Target_Vehicle_Count']
print("les variables explicative sont definies avec succès


#Division de données en ensemble d'entrainement et de test
X_train, X_test, Y_train, Y_test= train_test_split(X,Y,test_size=0.2, random_state=42)
print("division des nombres de données est effectuée avec succès.")


#Construire et entrainer le modele RandomForestRegressor
model = RandomForestRegressor(n_estimators=100, random_state=42)
model.fit(X_train, Y_train)
print("Le modèle a été entraîné avec succès


#Visulaization graphique modele RandomForest
import matplotlib.pyplot as plt
plt.figure(figsize=(8,6))
plt.scatter(Y_test, Y_pred, color='blue', alpha=0.5)
plt.plot([Y_test.min(), Y_test.max()], [Y_test.min(), Y_test.max()], 'r--', linewidth=2)
plt.xlabel("Valeurs réelles")
plt.ylabel("Valeurs prédites")
plt.title(f"Réel vs Prédit - Random Forest\nMAE = {mae:.2f}, R² = {r2:.2f}")
plt.show()


#Evalution performance du modele
Y_pred=model.predict(X_test)  #on utilise le modele pour faire de prediction par donnéés X test
mae=mean_absolute_error(Y_test, Y_pred) #on calacule l'erreur absolue moyenne et faire difference entre Y test et Y prediction 
r2=r2_score(Y_test, Y_pred) #on calacule le score r2 et faire difference entre y test et y prediction 
print(f"Erreur Absolue Moyenne (MAE) : {mae:.2f}")
print(f"Score R² : {r2:.2f}")


#sauvgarde du modele dataframe
data.to_csv(r"C:\Users\MSI\Desktop\urbain traffic\urban_traffic_model_prediction.csv", index=False)

import joblib
#sauvegarde du modele entrainé
joblib.dump(model, r"C:\Users\MSI\Desktop\urbain traffic\urban_traffic_model_prediction.pkl")
