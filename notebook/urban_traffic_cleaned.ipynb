import pandas as pd 
data = pd.read_csv(r"C:\Users\MSI\Desktop\Traffic.zip")
data.head()   # On affiche just les 5 premiere lignes seulement 
data.info()  # On affiche des information sur base de donnees les column et type 
data.describe() #on affiche des informations statistique sue les colonnes numerique 


# Convertir colonne Timestamp en type datetime
data['Timestamp'] = pd.to_datetime(data['Date'].astype(str) + ' ' + data['Temps'].astype(str))


# Extraire des information de la colonne Timestamp
data['year'] = data['Timestamp'].dt.year  # dt permet de acceder aus attribut de datetime
data['month'] = data['Timestamp'].dt.month
data['day'] = data['Timestamp'].dt.day
data['hour'] = data['Timestamp'].dt.hour
data ['minute'] = data['Timestamp'].dt.minute
data['seconds'] = data['Timestamp'].dt.second
data.info()
data.head()


# Permettre de transforme les colonnes en codeur binaire, car ML ne comprendre pas les variable categorique mais seulemnt les variable numerique 
data = pd.get_dummies(data, columns=['Location'], prefix=['Location'])
data.head()
data['Peak_Off_Peak_Encoded'] = data['Peak_Off_Peak'].apply(lambda x:1 if x == 'Peak' else 0)
data.head()

#supprime les columns Timestamp et peaf off peak dans copie original 
data.drop(columns=['Timestamp', 'Peak_Off_Peak'], axis=1, inplace=True)
data.head()


#On prendre just 2 chiffre apres le virgule pour colunne vehicule speed
data['Vehicule_Speed'] = data['Vehicle_Speed'].round(2)
data= data.drop(columns=['Vehicle_Speed'], axis=1)
data.head()
data.head()


#rename la colonne Index au dessus de Index et vehicle count
data.rename(columns={'Index':'Index_col'})
data.head()
data=data.drop(columns=['Index'], axis=1)
data.head()
print(data)


#sauvgarde le base de donne modifier
data.to_csv('urban_traffic_cleaned.csv', index=False)
